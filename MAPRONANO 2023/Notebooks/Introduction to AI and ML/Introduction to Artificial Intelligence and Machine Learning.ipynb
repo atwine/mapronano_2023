{
 "cells": [
  {
   "attachments": {},
   "cell_type": "markdown",
   "metadata": {},
   "source": [
    "# Introduction to Artificial Intelligence and Machine Learning\n",
    "\n",
    "By `Atwine Mugume Twinamatsiko`\n",
    "\n",
    "### What is Artificial Intelligence?\n",
    "\n",
    "I think this maybe the biggest question for all of you who are taking this course: `what exactly is this thing Artificial Intelligence`?\n",
    "\n",
    "To make things easy to follow in this short video presentation I introduce the concept Artificial Intelligence in the simplest way to understand and then talk later about machine learning.\n",
    "\n",
    "## There are two types of Artificial Intelligence\n",
    "\n",
    "`ANI (Artificial Narrow Intelligence)` and `AGI (Artificial General Intelligence)` are two different types of AI systems that have different capabilities and applications.\n",
    "\n",
    "- `ANI (Artificial Narrow Intelligence)` is a type of AI that is designed to perform specific tasks or functions, such as image recognition, speech recognition, or language translation. Examples of ANI include Siri, Alexa, Google Translate, and self-driving cars. These systems are good at one specific thing, but they can't do other things.\n",
    "\n",
    "- `AGI (Artificial General Intelligence)` is a type of AI that has the ability to perform any intellectual task that a human can. An AGI system can think, learn, and adapt to new situations, and it can perform a wide range of tasks. Examples of AGI include IBM's Watson and Google's AlphaGo. These systems are not only good at one specific thing, but they can do multiple things and it can adapt to new situations.\n",
    "\n",
    "<img src= 'intro12.jpeg'/>"
   ]
  },
  {
   "cell_type": "markdown",
   "metadata": {},
   "source": [
    "## What you will learn today\n",
    " - What is Intelligence?\n",
    " - How to piece Artificial + Intelligence to get the definition of this concept.\n",
    " - What is the turing test and how its related to AI.\n",
    " - Necessities to qualify as an AI.\n",
    " \n",
    " "
   ]
  },
  {
   "cell_type": "markdown",
   "metadata": {},
   "source": [
    "<img src=\"intro1.png\"/>"
   ]
  },
  {
   "cell_type": "markdown",
   "metadata": {},
   "source": [
    "<div class=\"alert alert-block alert-info\">\n",
    "    <h2>What is Intelligence?</h2>\n",
    "    <p>Definition of intelligence from mariam Webster Dictionary\n",
    "<p>(1): The ability to learn or understand or to deal with new or trying situations : \n",
    "\n",
    "<p>(2): The ability to apply knowledge to manipulate one's environment or to think abstractly as measured by objective criteria (such as tests)</p>\n",
    "\n",
    "</div>"
   ]
  },
  {
   "cell_type": "markdown",
   "metadata": {},
   "source": [
    "<img src=\"intro2.png\"/>"
   ]
  },
  {
   "attachments": {},
   "cell_type": "markdown",
   "metadata": {},
   "source": [
    "### What is the definition of \"Artificial\"?\n",
    "<div class=\"alert alert-block alert-success\">\n",
    "    By now you should have probably figured out since defining the word artificial is not hard at all.\n",
    "    <p> Artificial means not natural but caused by humans.\n",
    "    So in short the discipline of artificial Intelligence deals with equipping machines with the ability to do things that humans can do but also accomplish those that humans are not able to do.\n",
    "    </p>\n",
    "</div>"
   ]
  },
  {
   "cell_type": "markdown",
   "metadata": {},
   "source": [
    "<img src=\"intro3.png\"/>"
   ]
  },
  {
   "cell_type": "markdown",
   "metadata": {},
   "source": [
    "## Acting Humanly (The Turing Test)\n",
    "\n",
    "### The Turing Test:\n",
    "\n",
    "<p>\n",
    "During the test, one of the humans functions as the questioner, while the second human and the computer function as respondents. The questioner interrogates the respondents within a specific subject area, using a specified format and context. After a preset length of time or number of questions, the questioner is then asked to decide which respondent was human and which was a computer.\n",
    "\n",
    "The test is repeated many times. If the questioner makes the correct determination in half of the test runs or less, the computer is considered to have artificial intelligence because the questioner regards it as \"just as human\" as the human respondent.\n",
    "</p>\n",
    "\n",
    "<img src ='intro4.jpg'>"
   ]
  },
  {
   "cell_type": "markdown",
   "metadata": {},
   "source": [
    "<div class=\"alert alert-block alert-warning\">\n",
    "    \n",
    "</div>"
   ]
  },
  {
   "attachments": {},
   "cell_type": "markdown",
   "metadata": {},
   "source": [
    "<img src ='intro5.png'>\n",
    "\n",
    "### Experiment: Human or Computer?\n",
    "The text below was a responce taken randomly from two respondents, one human and one computer, can you tell who wrote the piece below?\n",
    "This is the question that was posed to both parties:  \n",
    "#### 5 Reasons Why Everyone Should Take an AI/ML Class: Unlocking the Magic of Computers\n",
    "```\n",
    "AI is like magic! It's a way for computers to think and learn like people do. It's super cool and can do things like talk to us and play games. But, it's not just for fun, it can also do important things like helpdoctors and make our cars drive better. Taking an AI class for everybody is a good idea because it can help us understand and use this magic better. Here are five reasons why:\n",
    "\n",
    "You will learn how to make computers do things that you want them to do.\n",
    "You will understand how AI is used in everyday life and how it can make things better.\n",
    "You will learn how to think like a computer and solve problems in new ways.\n",
    "You will be able to create your own AI projects and see them come to life.\n",
    "You will be prepared for the future when AI is used even more in society.\n",
    "```\n",
    "\n",
    "#### The chicken or the egg which came first?\n",
    "\n",
    "```\n",
    "The age-old question of whether the chicken or the egg came first has been baffling scientists for centuries. But, after extensive research and deep contemplation, I have finally come to a conclusion. The answer is... drumroll please... it doesn't matter!\n",
    "\n",
    "Because, let's be real, who cares if the chicken or the egg came first? It's not like it's going to change the way we live our lives. We'll still be able to enjoy our fried chicken and scrambled eggs just the same.\n",
    "\n",
    "But, if I had to choose, I would say that the egg came first. Because, you know, it's always easier to hatch a plan than to hatch a chicken. But, then again, maybe the chicken came first because without a chicken, there would be no egg.\n",
    "\n",
    "In the end, it's all just a big egg-scruciating mystery that we may never fully understand. So, let's just enjoy our breakfast and not worry about it too much.\n",
    "\n",
    "\"The Great Egg-scussion: Chicken or Egg, Who Came First ? A silly Humorous Approach\"\n",
    "\n",
    "```\n",
    "\n",
    "\n",
    "## Necessities for an AI to pass Turings Test\n",
    "\n",
    "In order for an AI to be able to pass the test there are some requirements it has to pass in ordr to pass off as a human or fool a human for that matter and these are stated and explained below:\n",
    "\n",
    "### Natural Language Processing\n",
    "\n",
    "The AI needs to be able to interface with humans in a language that Humans can understand well -- the field puts more emphasis on the ability of the computer to understand human. This deals in learning to hear, speak, read and write human languages\n",
    "\n",
    ">Short for `natural language processing`, NLP is a branch of artificial intelligence that deals with analyzing, understanding and generating the languages that humans use naturally in order to interface with computers in both written and spoken contexts using natural human languages instead of computer languages.\n",
    "\n",
    "<img src='intro6.jpg'/>\n",
    "\n",
    "### Knowledge Representation\n",
    "\n",
    "`What is knowledge representation?`\n",
    "\n",
    "Humans are best at understanding, reasoning, and interpreting knowledge. Human knows things, which is knowledge and as per their knowledge they perform various actions in the real world. But how machines do all these things comes under knowledge representation and reasoning. Hence we can describe Knowledge representation as following:\n",
    "\n",
    "- Knowledge representation and reasoning (KR, KRR) is the part of Artificial intelligence which concerned with AI agents thinking and how thinking contributes to intelligent behavior of agents.\n",
    "\n",
    "- It is responsible for representing information about the real world so that a computer can understand and can utilize this knowledge to solve the complex real world problems such as diagnosis a medical condition or communicating with humans in natural language.\n",
    "\n",
    "- It is also a way which describes how we can represent knowledge in artificial intelligence. Knowledge representation is not just storing data into some database, but it also enables an intelligent machine to learn from that knowledge and experiences so that it can behave intelligently like a human.\n",
    "\n",
    "What to Represent:\n",
    "Following are the kind of knowledge which needs to be represented in AI systems:\n",
    "\n",
    "- Object: All the facts about objects in our world domain. E.g., Guitars contains strings, trumpets are brass instruments.\n",
    "\n",
    "- Events: Events are the actions which occur in our world.\n",
    "\n",
    "- Performance: It describe behavior which involves knowledge about how to do things.\n",
    "\n",
    "- Meta-knowledge: It is knowledge about what we know.\n",
    "\n",
    "- Facts: Facts are the truths about the real world and what we represent.\n",
    "\n",
    "- Knowledge-Base: The central component of the knowledge-based agents is the knowledge base. It is represented as KB. The Knowledgebase is a group of the Sentences (Here, sentences are used as a technical term and not identical with the English language).\n",
    "\n",
    "- Knowledge: Knowledge is awareness or familiarity gained by experiences of facts, data, and situations. Following are the types of knowledge in artificial intelligence:\n"
   ]
  },
  {
   "cell_type": "markdown",
   "metadata": {},
   "source": [
    "<div class=\"alert alert-block alert-warning\">\n",
    "    \n",
    "</div>"
   ]
  },
  {
   "attachments": {},
   "cell_type": "markdown",
   "metadata": {},
   "source": [
    "### Automated Reasoning\n",
    "\n",
    "Automated reasoning is an area of cognitive science (involves knowledge representation and reasoning) and metalogic dedicated to understanding different aspects of reasoning. The study of automated reasoning helps produce computer programs that allow computers to reason completely, or nearly completely, automatically. \n",
    "\n",
    "Although automated reasoning is considered a sub-field of artificial intelligence, it also has connections with theoretical computer science, and even philosophy.\n",
    "\n",
    "<img src='intro9.png'/>\n",
    "\n",
    "### Experiment:\n",
    "In this experiment we are going to ask a very intelligent neural network called ChatGpt a question.\n",
    "Question: If it takes a woman 9 months to produce a child, how long would it take nine women?\n",
    "\n",
    "```\n",
    "Well, it's not a simple arithmetic problem, but if 9 women were to produce babies at the same time, it would still take 9 months for all of them to give birth. Because, you know, babies can't be rushed, they come in their own sweet time. And also, it's a human being not a machine, so it's not possible to produce like a product in a factory.\n",
    "\n",
    "Well, if it takes a woman 9 months to produce a baby, it would take 9 women... a really long time! I mean, have you ever tried to organize 9 women to do anything together? It's like herding cats! Plus, they would all have to be pregnant at the same time, and that's just a logistical nightmare.\n",
    "\n",
    "But, let's say by some miracle, 9 women managed to get pregnant at the same time, it would still take 9 months for each of them to have their baby. So, in total, it would take 9 women 9 months to produce 9 babies.\n",
    "\n",
    "But, then again, maybe they could just adopt 9 babies and save themselves a lot of time and hassle. Or, maybe they could just stick to producing one baby at a time like normal people.\n",
    "```"
   ]
  },
  {
   "attachments": {},
   "cell_type": "markdown",
   "metadata": {},
   "source": [
    "### Machine Learning\n",
    "<img src='intro10.jpg'/>\n",
    "\n",
    "Machine learning is an application of artificial intelligence (AI) that provides systems the ability to automatically learn and improve from experience without being explicitly programmed. Machine learning focuses on the development of computer programs that can access data and use it learn for themselves.\n",
    "\n",
    "The process of learning begins with observations or data, such as examples, direct experience, or instruction, in order to look for patterns in data and make better decisions in the future based on the examples that we provide. The primary aim is to allow the computers learn automatically without human intervention or assistance and adjust actions accordingly.\n",
    "\n",
    "#### Some machine learning methods\n",
    "\n",
    "There are several types of machine learning, including:\n",
    "\n",
    "`Supervised Learning:` This type of machine learning uses labeled data to train a model to make predictions on new, unseen data. Examples include linear regression and logistic regression.\n",
    "\n",
    "`Unsupervised Learning:` This type of machine learning uses unlabeled data to discover patterns and structure in the data. Examples include clustering and dimensionality reduction.\n",
    "\n",
    "`Semi-supervised Learning:` This type of machine learning uses a combination of labeled and unlabeled data to improve the accuracy of a model.\n",
    "\n",
    "`Reinforcement Learning:` This type of machine learning involves training a model to make decisions in an environment by receiving rewards or penalties for certain actions.\n",
    "\n",
    "`Deep Learning:` This type of machine learning uses neural networks with multiple layers to learn and make predictions. Examples include convolutional neural networks and recurrent neural networks.\n"
   ]
  },
  {
   "cell_type": "markdown",
   "metadata": {},
   "source": [
    "<div class=\"alert alert-block alert-warning\">\n",
    "    \n",
    "</div>"
   ]
  },
  {
   "cell_type": "markdown",
   "metadata": {},
   "source": [
    "### Computer Vision\n",
    "\n",
    "\n",
    "According to `Prof. Fei-Fei Li`, computer vision is defined as “a subset of mainstream artificial intelligence that deals with the science of making computers or machines visually enabled, i.e., they can analyze and understand an image.” \n",
    "\n",
    "In short this part of artificial intelligence helps computers ability to see as humans do.\n",
    "\n",
    "This doesn't stop at images but also video classification\n",
    "\n",
    "`Computer Vision Applications`\n",
    "There are many computer vision applications out in the market. Below are just a few:\n",
    "\n",
    "- Automatic inspection (image-based automated inspection), e.g., in manufacturing applications\n",
    "\n",
    "- Assisting humans in identification tasks (to identify object/species using their properties), e.g., a species identification system\n",
    "\n",
    "- Controlling processes (in a way of monitoring robots), e.g., an industrial robot\n",
    "\n",
    "- Detecting events, e.g., for visual surveillance or people counting\n",
    "\n",
    "- Modeling objects or environments (using drones can analyses about climatic factors that leads to change in vegetation, etc.), e.g., medical image analysis or topographical modeling\n",
    "\n",
    "- Navigation, e.g., by an autonomous vehicle or mobile robot\n",
    "\n",
    "- Organizing information, e.g., for indexing databases of images and image sequences\n",
    "\n",
    "\n",
    "<img src='intro11.jpg'/>"
   ]
  },
  {
   "attachments": {},
   "cell_type": "markdown",
   "metadata": {},
   "source": []
  },
  {
   "cell_type": "code",
   "execution_count": null,
   "metadata": {},
   "outputs": [],
   "source": []
  }
 ],
 "metadata": {
  "kernelspec": {
   "display_name": "Python 3",
   "language": "python",
   "name": "python3"
  },
  "language_info": {
   "codemirror_mode": {
    "name": "ipython",
    "version": 3
   },
   "file_extension": ".py",
   "mimetype": "text/x-python",
   "name": "python",
   "nbconvert_exporter": "python",
   "pygments_lexer": "ipython3",
   "version": "3.7.4"
  },
  "varInspector": {
   "cols": {
    "lenName": 16,
    "lenType": 16,
    "lenVar": 40
   },
   "kernels_config": {
    "python": {
     "delete_cmd_postfix": "",
     "delete_cmd_prefix": "del ",
     "library": "var_list.py",
     "varRefreshCmd": "print(var_dic_list())"
    },
    "r": {
     "delete_cmd_postfix": ") ",
     "delete_cmd_prefix": "rm(",
     "library": "var_list.r",
     "varRefreshCmd": "cat(var_dic_list()) "
    }
   },
   "types_to_exclude": [
    "module",
    "function",
    "builtin_function_or_method",
    "instance",
    "_Feature"
   ],
   "window_display": false
  }
 },
 "nbformat": 4,
 "nbformat_minor": 2
}
