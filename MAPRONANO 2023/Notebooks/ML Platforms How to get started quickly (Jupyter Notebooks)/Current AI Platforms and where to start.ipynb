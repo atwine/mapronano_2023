{
 "cells": [
  {
   "cell_type": "markdown",
   "metadata": {},
   "source": [
    "# Machine Learning Platforms\n",
    "\n",
    "by `Atwine Mugume Twinamatsiko`  [Github](https://github.com/atwine), [LinkedIn](https://www.linkedin.com/in/mugume-twinamatsiko-atwine-976ab12b/)\n",
    "\n",
    "<img src= 'plt.jpg'/>\n",
    "\n",
    "#### Normally in order to practice you need to have a powerful computer:\n",
    "\n",
    "- Five (5) cores Plus.\n",
    "- 4Gb+ of RAM Plus.\n",
    "- 500+ plus of HDD Space.\n",
    "\n",
    "These specifications can help you get started and work on some projects in Machine learning. However if you are handling algorithms that are data hungry like neural networks you will need some help in dealing with processing power.\n",
    "\n",
    "#### For Heavy computing you will need:\n",
    "\n",
    "- GPU - Graphical Processing Units.\n",
    "- TPU - Tensor Processing Units.\n",
    "\n",
    "Now these are quite expensive to buy on the market for everyone.\n",
    "\n",
    "#### At the end of this tutorial you will learn the following:\n",
    "\n",
    "- Platforms for Machine Learning and AI.\n",
    "- Practicing Platforms.\n",
    "- Editors for your code."
   ]
  },
  {
   "cell_type": "markdown",
   "metadata": {},
   "source": [
    "<div class=\"alert alert-block alert-success\"/>"
   ]
  },
  {
   "cell_type": "markdown",
   "metadata": {},
   "source": [
    "# Learning Platforms:\n",
    "\n",
    "If you want to learn more in the area of ML/AI there are a number of platforms that you can work with.\n",
    "- Please do this in your free time to better understand concepts and put them into practice."
   ]
  },
  {
   "cell_type": "markdown",
   "metadata": {},
   "source": [
    "<div class=\"alert alert-block alert-success\"/>"
   ]
  },
  {
   "cell_type": "markdown",
   "metadata": {},
   "source": [
    "- ### [Data Camp](https://www.datacamp.com/)\n",
    "\n",
    "Data Camp has great resources for developing skills as a Data Scientist or Data Analyst. They have different tracks and their way of teaching is very practical. \n",
    "\n",
    "You are taught and interactive quizes are given live in the sessions.\n",
    "\n",
    "<img src = 'datacamp.png'/>"
   ]
  },
  {
   "cell_type": "markdown",
   "metadata": {},
   "source": [
    "<div class=\"alert alert-block alert-success\"/>"
   ]
  },
  {
   "cell_type": "markdown",
   "metadata": {},
   "source": [
    "- ### [Coursera](https://www.coursera.org/)\n",
    "\n",
    "The slogan for this site is \"Learn without limits\".\n",
    "- While here you are able to access multiple courses that are in your area of interest.\n",
    "- For this particular class you can access some material related to ML/AI as you see fit.\n",
    "\n",
    "<img src='coursera.png'/>"
   ]
  },
  {
   "cell_type": "markdown",
   "metadata": {},
   "source": [
    "<div class=\"alert alert-block alert-warning\"/>"
   ]
  },
  {
   "cell_type": "markdown",
   "metadata": {},
   "source": [
    "<div class=\"alert alert-info\"/></div>"
   ]
  },
  {
   "attachments": {},
   "cell_type": "markdown",
   "metadata": {},
   "source": [
    "## [Fast AI](https://course.fast.ai/)\n",
    "\n",
    "<div class=\"alert alert-info\"/>\n",
    "The field of Machine Learning an AI is evolving so fast, there was a time R was the language to go to before python came and stope `people's hearts`. \n",
    "\n",
    "Companies have evolved and made newer models and code structures to work for them, these are normally build to help solve some of the limitations on the previous models or versions. \n",
    "\n",
    "Fastai is such a thing, it is headed by `Jeremy Howard`. They have free materials where someone can go and learn machine learning and deep learning. The material is alittle advanced but a great resource to know about.\n",
    "\n",
    "</div>\n",
    "\n",
    "<img src='fastai.png'/>"
   ]
  },
  {
   "cell_type": "markdown",
   "metadata": {},
   "source": [
    "<div class=\"alert alert-info\"/></div>"
   ]
  },
  {
   "cell_type": "markdown",
   "metadata": {},
   "source": [
    "# Practicing Platforms:\n",
    "\n",
    "These are platforms that you can access GPUs for free:\n",
    "\n",
    "\n",
    "- ### [Kaggle](https://www.kaggle.com/)\n",
    "\n",
    "<img src='kaggle.png'/>"
   ]
  },
  {
   "cell_type": "markdown",
   "metadata": {},
   "source": [
    "<div class=\"alert alert-info\"/></div>"
   ]
  },
  {
   "cell_type": "markdown",
   "metadata": {},
   "source": [
    "- ## [Google Colab](https://colab.research.google.com/notebooks/intro.ipynb)\n",
    "\n",
    "Here you can get:(free)\n",
    "- GPU\n",
    "- TPU\n",
    "\n",
    "<img src='colab.png'/>"
   ]
  },
  {
   "cell_type": "markdown",
   "metadata": {},
   "source": [
    "<div class=\"alert alert-info\"/></div>"
   ]
  },
  {
   "attachments": {},
   "cell_type": "markdown",
   "metadata": {},
   "source": [
    "- ## [Git Hub](https://github.com/)\n",
    "\n",
    "This is a platform you can use to see what people have worked on.\n",
    "\n",
    "You are able to fork what people have done and use it on your laptop or machine to practice the use of some \n",
    "techniques and other things.\n",
    "\n",
    "### In order to get this teaching material you need to get a github account so that we can move together.\n",
    "\n",
    "1- Get a github account for free\n",
    "2- Download git and install it on your machine\n",
    "3- Clone the repository like this:\n",
    "\n",
    "#### In Jupyter Notebook:\n",
    "```\n",
    "!git clone https://github.com/<repository>\n",
    "\n",
    "```\n",
    "\n",
    "#### On command line use this command:\n",
    "\n",
    "```\n",
    "!git clone https://github.com/<repository>\n",
    "\n",
    "```\n",
    "\n",
    "<img src='github.png'/>"
   ]
  },
  {
   "cell_type": "markdown",
   "metadata": {},
   "source": [
    "<div class=\"alert alert-info\"/></div>"
   ]
  },
  {
   "attachments": {},
   "cell_type": "markdown",
   "metadata": {},
   "source": [
    "\n",
    "## What you need to have to get started:-\n",
    "\n",
    "Let us look at some of the things we need to get started, now that you have a new computer what do you do?\n",
    "\n",
    "- ## [Install Python](https://www.python.org/)\n",
    "Python is a programming language that is one of the mostly used in Machine Learning and Artificial intelligence.\n",
    "\n",
    "It is fast, easy to use (the systax is simple to understand) and is open source (anyone can use it).\n",
    "\n",
    "Normally python comes installed on your pc, but there are upgrades, in case of that you need to download the latest from the python official website.\n",
    "\n",
    "<img src='python.png'/>\n",
    "\n",
    "- ### An Environment:\n",
    " In order to start coding you need an environment where you will write your code. The environments differ depending on choice. I am going to list two different ones.\n",
    " \n",
    " ### Anaconda (Python & R)\n",
    " [Link](https://anaconda.org/) with this environment you are able to write both Python and R code for machine learning and deep learning.\n",
    " \n",
    " <img src='anaconda.png'/>\n",
    " \n",
    " After installing this software you will be able to access Jupyter Notebook local server so that you will be able to work with RStudio all intalled in one navigator.\n",
    " \n",
    " ### R Studio\n",
    " You are able to launch R Studio from anaconda navigator (plus many other editors). With this environment you are able to work with R which is an alternative for python.\n",
    " \n",
    " <img src='rstudio.png'/>\n",
    " \n",
    " ### Anaconda Navigator\n",
    " \n",
    "  <img src='anaconda navigator.png'/>\n",
    "  \n",
    "  \n",
    "## Jupyter notebooks\n",
    "\n",
    "What problem does jupyter solve: for a newbie to this arena you can get intimidated with setting up an environment for AI and ML. In a few steps with Jupyter you can have a working server and frontend web based application to help you get started quickly!\n",
    "\n",
    "Jupyter is a free, open-source, interactive web tool known as a computational notebook, which researchers can use to combine software code, computational output, explanatory text and multimedia resources in a single document.\n",
    "\n",
    "The Jupyter notebook has two components. Users input programming code or text in rectangular cells in a front-end web page. The browser then passes that code to a back-end ‘kernel’, which runs the code and returns the results\n",
    "\n",
    "Here is a great [article on Jupyter Notebooks](https://www.analyticsvidhya.com/blog/2018/05/starters-guide-jupyter-notebook/)\n",
    "\n",
    "<img src='Jupyternotebooks.png'/>\n",
    "\n",
    "### [Interesting Jupyter Notebooks](https://github.com/jupyter/jupyter/wiki#a-gallery-of-interesting-jupyter-notebooks)\n",
    "\n",
    "You can also build widgets with in Jupyter Notebooks and many other things.\n",
    "\n",
    "<img src='Jupyterwidget.gif'/>"
   ]
  },
  {
   "cell_type": "markdown",
   "metadata": {},
   "source": [
    "<div class=\"alert alert-block alert-success\"/>\n"
   ]
  },
  {
   "cell_type": "markdown",
   "metadata": {},
   "source": [
    "### Skills\n",
    "\n",
    "As you can see above there are some skills you need to have in order to function in this career properly:-\n",
    "\n",
    ">1 - __Programming:__ the kind of programming needed is not as intense as that of developers however one has to be able to learn the syntax of their chosen languages and the logic that it entails.\n",
    "The Languages needed include:\n",
    "- Python, R, SQL, HTML\n",
    "\n",
    ">2 - __Statistics:__ you definately don't need to become a statician, however you need to know your way around statistical methods. Simple descriptive stats, inferential stats, hypothesis testing and others.\n",
    "\n",
    ">3 - __Linear Algebra:__ This is a necesarry skill if you are going to understand what you are doing. Most of the models are built in order to maximize or minimize certain linear and non linear functions. The math becomes intense the higher you get. This includes logic and formal methods.\n",
    "\n",
    ">4 - __Data Visualization:__ Being able to tell a compelling story with data is crucial to getting your point across and keeping your audience engaged. If your findings can’t be easily and quickly identified, then you’re going to have a difficult time getting through to others. \n",
    "\n",
    ">5 - __Critical Thinking:__ being able to look at your current task from various angles and geting valuable insight in what the information is telling us."
   ]
  },
  {
   "attachments": {},
   "cell_type": "markdown",
   "metadata": {},
   "source": [
    "## Career\n",
    "Let us first look at the kind of careers that are available with all this knowledge.\n",
    "\n",
    "<img src='career.png'/>\n",
    "\n"
   ]
  },
  {
   "cell_type": "markdown",
   "metadata": {},
   "source": [
    "<div class=\"alert alert-block alert-success\"/>"
   ]
  },
  {
   "cell_type": "markdown",
   "metadata": {},
   "source": [
    "## Comparison Table\n",
    "\n",
    "<table class=\"table table-striped table-dark\">\n",
    "    \n",
    "  <thead>\n",
    "    <tr>\n",
    "      <th scope=\"col\">Data Science</th>\n",
    "      <th scope=\"col\">Data Analytics</th>\n",
    "    </tr>\n",
    "  </thead>\n",
    "    \n",
    "  <tbody>\n",
    "    <tr>\n",
    "      <td scope=\"row\">Data Science is the whole multidisciplinary field that includes domain expertise, machine learning, statistical research, data analytics, mathematics, and computer science.</td>\n",
    "      <td>It is a significant part of data science where data is organized, processed and analyzed to solve business problems.</td>\n",
    "    </tr>\n",
    "    <tr>\n",
    "      <td scope=\"row\">The scope of data science is said to be macro.</td>\n",
    "      <td>The scope of data analytics is micro.</td>\n",
    "    </tr>\n",
    "    <tr>\n",
    "      <td scope=\"row\">Requires knowledge of data modeling, advanced statistics, machine learning and basic knowledge of programming languages like SQL, Python/R, SAS.</td>\n",
    "      <td>Requires solid knowledge of database like SQL, programming skills like Python/R, Hadoop/Spark. Also requires knowledge of BI tools and medium level understanding of statistics.</td>\n",
    "    </tr>\n",
    "    <tr>\n",
    "      <td scope=\"row\">The input is raw or unstructured data which is then cleaned and organized to be sent for analytics.</td>\n",
    "      <td>The input is mostly structured data on which design principles and data visualization techniques are applied.</td>\n",
    "    </tr>\n",
    "    <tr>\n",
    "      <td scope=\"row\">Involves search engine exploration, artificial intelligence, and machine learning.</td>\n",
    "      <td>The scope is limited to analytical techniques mostly using statistical tools and techniques.</td>\n",
    "    </tr>\n",
    "    <tr>\n",
    "      <td scope=\"row\">The aim of data science is to find and define new business problems that lead to innovation.</td>\n",
    "      <td>The problem is already known and with analytics, the analyst tries to find the best solutions to the problem.</td>\n",
    "    </tr>\n",
    "    <tr>\n",
    "      <td scope=\"row\">Used for recommender systems, internet research, image recognition, speech recognition, and digital marketing.</td>\n",
    "      <td>Used in domain areas like healthcare, travel and tourism, gaming, finance and so on.</td>\n",
    "    </tr>\n",
    "    <tr>\n",
    "      <td scope=\"row\">Involves finding solutions to new and unknown problems by discovering them and converting data into business stories and use cases.</td>\n",
    "      <td>The data only goes through thorough analysis and interpretation, however, there is no roadmap created.</td>\n",
    "    </tr>\n",
    "  </tbody>\n",
    "</table>"
   ]
  },
  {
   "cell_type": "code",
   "execution_count": null,
   "metadata": {},
   "outputs": [],
   "source": []
  },
  {
   "cell_type": "markdown",
   "metadata": {},
   "source": [
    "<div class=\"alert alert-block alert-success\"/>"
   ]
  },
  {
   "attachments": {},
   "cell_type": "markdown",
   "metadata": {},
   "source": []
  },
  {
   "cell_type": "code",
   "execution_count": null,
   "metadata": {},
   "outputs": [],
   "source": []
  }
 ],
 "metadata": {
  "kernelspec": {
   "display_name": "rasa3",
   "language": "python",
   "name": "python3"
  },
  "language_info": {
   "codemirror_mode": {
    "name": "ipython",
    "version": 3
   },
   "file_extension": ".py",
   "mimetype": "text/x-python",
   "name": "python",
   "nbconvert_exporter": "python",
   "pygments_lexer": "ipython3",
   "version": "3.8.13 (default, Mar 28 2022, 06:59:08) [MSC v.1916 64 bit (AMD64)]"
  },
  "varInspector": {
   "cols": {
    "lenName": 16,
    "lenType": 16,
    "lenVar": 40
   },
   "kernels_config": {
    "python": {
     "delete_cmd_postfix": "",
     "delete_cmd_prefix": "del ",
     "library": "var_list.py",
     "varRefreshCmd": "print(var_dic_list())"
    },
    "r": {
     "delete_cmd_postfix": ") ",
     "delete_cmd_prefix": "rm(",
     "library": "var_list.r",
     "varRefreshCmd": "cat(var_dic_list()) "
    }
   },
   "types_to_exclude": [
    "module",
    "function",
    "builtin_function_or_method",
    "instance",
    "_Feature"
   ],
   "window_display": false
  },
  "vscode": {
   "interpreter": {
    "hash": "d83768d37b70cf002220be7e1a765b9f7f37fa40c4a284196543202fdd23c353"
   }
  }
 },
 "nbformat": 4,
 "nbformat_minor": 2
}
